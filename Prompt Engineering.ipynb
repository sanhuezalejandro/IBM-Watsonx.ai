{
 "cells": [
  {
   "cell_type": "markdown",
   "metadata": {},
   "source": [
    "![image](https://raw.githubusercontent.com/IBM/watson-machine-learning-samples/master/cloud/notebooks/headers/watsonx-Prompt_Lab-Notebook.png)\n",
    "# Prompt Notebook - Prompt Lab Notebook v1.1.0\n",
    "This notebook contains steps and code to demonstrate inferencing of prompts\n",
    "generated in Prompt Lab in watsonx.ai. It introduces Python API commands\n",
    "for authentication using API key and prompt inferencing using WML API.\n",
    "\n",
    "**Note:** Notebook code generated using Prompt Lab will execute successfully.\n",
    "If code is modified or reordered, there is no guarantee it will successfully execute.\n",
    "For details, see: <a href=\"/docs/content/wsj/analyze-data/fm-prompt-save.html?context=wx\" target=\"_blank\">Saving your work in Prompt Lab as a notebook.</a>\n",
    "\n",
    "Some familiarity with Python is helpful. This notebook uses Python 3.10.\n",
    "\n",
    "## Notebook goals\n",
    "The learning goals of this notebook are:\n",
    "\n",
    "* Defining a Python function for obtaining credentials from the IBM Cloud personal API key\n",
    "* Defining parameters of the Model object\n",
    "* Using the Model object to generate response using the defined model id, parameters and the prompt input\n",
    "\n",
    "# Setup"
   ]
  },
  {
   "cell_type": "markdown",
   "metadata": {},
   "source": [
    "## watsonx API connection\n",
    "This cell defines the credentials required to work with watsonx API for Foundation\n",
    "Model inferencing.\n",
    "\n",
    "**Action:** Provide the IBM Cloud personal API key. For details, see\n",
    "<a href=\"https://cloud.ibm.com/docs/account?topic=account-userapikey&interface=ui\" target=\"_blank\">documentation</a>.\n"
   ]
  },
  {
   "cell_type": "code",
   "execution_count": 1,
   "metadata": {},
   "outputs": [],
   "source": [
    "import os\n",
    "import getpass\n",
    "\n",
    "def get_credentials():\n",
    "\treturn {\n",
    "\t\t\"url\" : \"https://us-south.ml.cloud.ibm.com\",\n",
    "\t\t\"apikey\" : getpass.getpass(\"Please enter your api key (hit enter): \")\n",
    "\t}\n"
   ]
  },
  {
   "cell_type": "markdown",
   "metadata": {},
   "source": [
    "# Inferencing\n",
    "This cell demonstrated how we can use the model object as well as the created access token\n",
    "to pair it with parameters and input string to obtain\n",
    "the response from the the selected foundation model.\n",
    "\n",
    "## Defining the model id\n",
    "We need to specify model id that will be used for inferencing:\n"
   ]
  },
  {
   "cell_type": "code",
   "execution_count": 2,
   "metadata": {},
   "outputs": [],
   "source": [
    "model_id = \"ibm/granite-13b-chat-v2\"\n"
   ]
  },
  {
   "cell_type": "markdown",
   "metadata": {},
   "source": [
    "## Defining the model parameters\n",
    "We need to provide a set of model parameters that will influence the\n",
    "result:"
   ]
  },
  {
   "cell_type": "code",
   "execution_count": 3,
   "metadata": {},
   "outputs": [],
   "source": [
    "parameters = {\n",
    "    \"decoding_method\": \"sample\",\n",
    "    \"max_new_tokens\": 200,\n",
    "    \"min_new_tokens\": 100,\n",
    "    \"temperature\": 0.7,\n",
    "    \"top_k\": 50,\n",
    "    \"top_p\": 1,\n",
    "    \"repetition_penalty\": 1\n",
    "}"
   ]
  },
  {
   "cell_type": "markdown",
   "metadata": {},
   "source": [
    "## Defining the project id or space id\n",
    "The API requires project id or space id that provides the context for the call. We will obtain\n",
    "the id from the project or space in which this notebook runs:"
   ]
  },
  {
   "cell_type": "code",
   "execution_count": 4,
   "metadata": {},
   "outputs": [],
   "source": [
    "project_id = os.getenv(\"PROJECT_ID\")\n",
    "space_id = os.getenv(\"SPACE_ID\")\n"
   ]
  },
  {
   "cell_type": "markdown",
   "metadata": {},
   "source": [
    "## Defining the Model object\n",
    "We need to define the Model object using the properties we defined so far:\n"
   ]
  },
  {
   "cell_type": "code",
   "execution_count": 5,
   "metadata": {},
   "outputs": [
    {
     "name": "stdout",
     "output_type": "stream",
     "text": [
      "Please enter your api key (hit enter): ········\n"
     ]
    }
   ],
   "source": [
    "from ibm_watsonx_ai.foundation_models import Model\n",
    "\n",
    "model = Model(\n",
    "\tmodel_id = model_id,\n",
    "\tparams = parameters,\n",
    "\tcredentials = get_credentials(),\n",
    "\tproject_id = project_id,\n",
    "\tspace_id = space_id\n",
    "\t)\n"
   ]
  },
  {
   "cell_type": "markdown",
   "metadata": {},
   "source": [
    "## Defining the inferencing input\n",
    "Foundation model inferencing API accepts a natural language input that it will use\n",
    "to provide the natural language response. The API is sensitive to formatting. Input\n",
    "structure, presence of training steps (one-shot, two-shot learning etc.), as well\n",
    "as phrasing all influence the final response and belongs to the emerging discipline of\n",
    "Prompt Engineering.\n",
    "\n",
    "Let us provide the input we got from the Prompt Lab:\n"
   ]
  },
  {
   "cell_type": "code",
   "execution_count": 6,
   "metadata": {},
   "outputs": [],
   "source": [
    "prompt_input = \"\"\"Act as an entrepreneur starting a small one-person business. List ideas to start a\n",
    "successful business.\n",
    "\n",
    "Input: List ideas to start a lemonade business:\n",
    "Output: 1. Setup a lemonade stand\n",
    "2. Partner with a restaurant\n",
    "3. Arrange for a celebrity to endorse the lemonade stand\n",
    "\n",
    "Input:  List ideas to start a landscaping business:\n",
    "Output: 1. Setup a basic lawn care business and move up to more elaborate landscaping as your\n",
    "experience grows\n",
    "2. Buy some inexpensive equipment like a lawn mower, rakes, shovels, etc.\n",
    "3. Purchase used lawn furniture from estate sales or yard sales at very low cost\n",
    "\n",
    "Input: List ideas to start a car detailing business:\n",
    "1.\n",
    "Output: 1. Offer basic car cleaning and vacuuming\n",
    "2. Provide full-service detailing, including interior and exterior cleaning, waxing, and polishing\n",
    "3. Offer specialized services like engine cleaning, scratch removal, and upholstery shampooing\n",
    "\n",
    "Input: List ideas to start a pet sitting business:\n",
    "Output: 1. Offer to walk dogs in the neighborhood\n",
    "2. Provide pet sitting services in clients' homes\n",
    "3. Offer grooming services for dogs and cats\n",
    "4. Create a pet care package that includes walking, feeding, and playing with pets, as well as providing medication administration if necessary\n",
    "\n",
    "Input: List ideas to start a tutoring business:\n",
    "Output: 1. Offer tutoring in a subject you excel in, such as math, science, or a foreign language\n",
    "2. Partner with local schools or community centers to offer group tutoring sessions\n",
    "3. Create online tutoring sessions for students who need help with distance learning\n",
    "4. Offertest preparation services for standardized tests like the SAT, ACT, or GRE\n",
    "5. Tutor students in specific skills, such as writing, reading, or critical thinking\"\"\"\n"
   ]
  },
  {
   "cell_type": "markdown",
   "metadata": {},
   "source": [
    "## Execution\n",
    "Let us now use the defined Model object and pair it with input and\n",
    "generate the response:\n"
   ]
  },
  {
   "cell_type": "code",
   "execution_count": 7,
   "metadata": {},
   "outputs": [
    {
     "name": "stdout",
     "output_type": "stream",
     "text": [
      "Submitting generation request...\n",
      "\n",
      "\n",
      "Input: List ideas to start a food truck business:\n",
      "Output: 1. Focus on a specific cuisine, such as tacos, barbecue, or crepes\n",
      "2. Create a unique twist on a popular menu item\n",
      "3. Partner with local farmers or producers to offer fresh, locally-sourced ingredients\n",
      "4. Offer catering services for events and parties\n",
      "5. Create a food truck that doubles as a mobile catering unit, allowing customers to order food from the truck and have it served at their location\n",
      "6. Develop a menu that caters to specific dietary needs, such as vegan, vegetarian, or gluten-free options\n",
      "7. Offer a loyalty program or discounts for repeat customers\n",
      "8. Create a fun, inviting atmosphere with music, games, and comfortable seating\n",
      "9. Collaborate with other local businesses to cross-promote your food truck and increase foot traffic\n",
      "10. Obtain necessary permits and licenses, and ensure your food truck is well-\n"
     ]
    }
   ],
   "source": [
    "print(\"Submitting generation request...\")\n",
    "generated_response = model.generate_text(prompt=prompt_input, guardrails=True)\n",
    "print(generated_response)\n"
   ]
  },
  {
   "cell_type": "markdown",
   "metadata": {},
   "source": [
    "# Next steps\n",
    "You successfully completed this notebook! You learned how to use\n",
    "watsonx.ai inferencing SDK to generate response from the foundation model\n",
    "based on the provided input, model id and model parameters. Check out the\n",
    "official watsonx.ai site for more samples, tutorials, documentation, how-tos, and blog posts.\n",
    "\n",
    "<a id=\"copyrights\"></a>\n",
    "### Copyrights\n",
    "\n",
    "Licensed Materials - Copyright © 2023 IBM. This notebook and its source code are released under the terms of the ILAN License.\n",
    "Use, duplication disclosure restricted by GSA ADP Schedule Contract with IBM Corp.\n",
    "\n",
    "**Note:** The auto-generated notebooks are subject to the International License Agreement for Non-Warranted Programs (or equivalent) and License Information document for watsonx.ai Auto-generated Notebook (License Terms), such agreements located in the link below. Specifically, the Source Components and Sample Materials clause included in the License Information document for Watson Studio Auto-generated Notebook applies to the auto-generated notebooks.  \n",
    "\n",
    "By downloading, copying, accessing, or otherwise using the materials, you agree to the <a href=\"https://www14.software.ibm.com/cgi-bin/weblap/lap.pl?li_formnum=L-AMCU-BYC7LF\" target=\"_blank\">License Terms</a>  "
   ]
  }
 ],
 "metadata": {
  "kernelspec": {
   "display_name": "Python 3.10",
   "language": "python",
   "name": "python3"
  },
  "language_info": {
   "codemirror_mode": {
    "name": "ipython",
    "version": 3
   },
   "file_extension": ".py",
   "mimetype": "text/x-python",
   "name": "python",
   "nbconvert_exporter": "python",
   "pygments_lexer": "ipython3",
   "version": "3.10.14"
  }
 },
 "nbformat": 4,
 "nbformat_minor": 1
}
